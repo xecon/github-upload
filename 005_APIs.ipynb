{
  "nbformat": 4,
  "nbformat_minor": 0,
  "metadata": {
    "colab": {
      "provenance": [],
      "include_colab_link": true
    },
    "kernelspec": {
      "name": "python3",
      "display_name": "Python 3"
    },
    "language_info": {
      "name": "python"
    }
  },
  "cells": [
    {
      "cell_type": "markdown",
      "metadata": {
        "id": "view-in-github",
        "colab_type": "text"
      },
      "source": [
        "<a href=\"https://colab.research.google.com/github/xecon/github-upload/blob/master/005_APIs.ipynb\" target=\"_parent\"><img src=\"https://colab.research.google.com/assets/colab-badge.svg\" alt=\"Open In Colab\"/></a>"
      ]
    },
    {
      "cell_type": "code",
      "execution_count": null,
      "metadata": {
        "id": "cKa9Ddivqbmh"
      },
      "outputs": [],
      "source": [
        "! gcloud config set project ct-workshop-001\n",
        "! gcloud auth application-default login"
      ]
    },
    {
      "cell_type": "markdown",
      "source": [
        "## Sentiment"
      ],
      "metadata": {
        "id": "Goyq0EGVrotm"
      }
    },
    {
      "cell_type": "code",
      "source": [
        "\n",
        "from google.cloud import language\n",
        "\n",
        "def analyze_text_sentiment(text: str) -> language.AnalyzeSentimentResponse:\n",
        "    client = language.LanguageServiceClient()\n",
        "    document = language.Document(\n",
        "        content=text,\n",
        "        type_=language.Document.Type.PLAIN_TEXT,\n",
        "    )\n",
        "    return client.analyze_sentiment(document=document)\n",
        "\n",
        "def show_text_sentiment(response: language.AnalyzeSentimentResponse):\n",
        "    import pandas as pd\n",
        "\n",
        "    columns = [\"score\", \"sentence\"]\n",
        "    data = [(s.sentiment.score, s.text.content) for s in response.sentences]\n",
        "    df_sentence = pd.DataFrame(columns=columns, data=data)\n",
        "\n",
        "    sentiment = response.document_sentiment\n",
        "    columns = [\"score\", \"magnitude\", \"language\"]\n",
        "    data = [(sentiment.score, sentiment.magnitude, response.language)]\n",
        "    df_document = pd.DataFrame(columns=columns, data=data)\n",
        "\n",
        "    format_args = dict(index=False, tablefmt=\"presto\", floatfmt=\"+.1f\")\n",
        "    print(f\"At sentence level:\\n{df_sentence.to_markdown(**format_args)}\")\n",
        "    print()\n",
        "    print(f\"At document level:\\n{df_document.to_markdown(**format_args)}\")\n"
      ],
      "metadata": {
        "id": "hcyQrtQ7qg9i"
      },
      "execution_count": null,
      "outputs": []
    },
    {
      "cell_type": "code",
      "source": [
        "# Input\n",
        "text = \"\"\"\n",
        "Python is a very readable language, which makes it easy to understand and maintain code.\n",
        "It's simple, very flexible, easy to learn, and suitable for a wide variety of tasks.\n",
        "One disadvantage is its speed: it's not as fast as some other programming languages.\n",
        "\"\"\"\n",
        "\n",
        "# Send a request to the API\n",
        "analyze_sentiment_response = analyze_text_sentiment(text)\n",
        "\n",
        "# Show the results\n",
        "show_text_sentiment(analyze_sentiment_response)"
      ],
      "metadata": {
        "colab": {
          "base_uri": "https://localhost:8080/"
        },
        "id": "xNtjYueiq7Ch",
        "outputId": "cb420535-76c1-4ad1-8f5c-63db5f212673"
      },
      "execution_count": null,
      "outputs": [
        {
          "output_type": "stream",
          "name": "stdout",
          "text": [
            "At sentence level:\n",
            "   score | sentence\n",
            "---------+------------------------------------------------------------------------------------------\n",
            "    +0.8 | Python is a very readable language, which makes it easy to understand and maintain code.\n",
            "    +0.9 | It's simple, very flexible, easy to learn, and suitable for a wide variety of tasks.\n",
            "    -0.4 | One disadvantage is its speed: it's not as fast as some other programming languages.\n",
            "\n",
            "At document level:\n",
            "   score |   magnitude | language\n",
            "---------+-------------+------------\n",
            "    +0.4 |        +2.2 | en\n"
          ]
        }
      ]
    },
    {
      "cell_type": "code",
      "source": [
        "\n",
        " text = \"Ik ben niet blij\" #@param {type:\"string\"}\n",
        " analyze_sentiment_response = analyze_text_sentiment(text)\n",
        " show_text_sentiment(analyze_sentiment_response)"
      ],
      "metadata": {
        "colab": {
          "base_uri": "https://localhost:8080/"
        },
        "id": "1MAljg3Yq_GU",
        "outputId": "78759b51-e362-4407-aa22-3a972e3f0d13"
      },
      "execution_count": null,
      "outputs": [
        {
          "output_type": "stream",
          "name": "stdout",
          "text": [
            "At sentence level:\n",
            "   score | sentence\n",
            "---------+------------------\n",
            "    -0.8 | Ik ben niet blij\n",
            "\n",
            "At document level:\n",
            "   score |   magnitude | language\n",
            "---------+-------------+------------\n",
            "    -0.8 |        +0.8 | nl\n"
          ]
        }
      ]
    },
    {
      "cell_type": "markdown",
      "source": [
        "## Entities"
      ],
      "metadata": {
        "id": "15nnkpzGrqSJ"
      }
    },
    {
      "cell_type": "code",
      "source": [
        "from google.cloud import language\n",
        "\n",
        "def analyze_text_entities(text: str) -> language.AnalyzeEntitiesResponse:\n",
        "    client = language.LanguageServiceClient()\n",
        "    document = language.Document(\n",
        "        content=text,\n",
        "        type_=language.Document.Type.PLAIN_TEXT,\n",
        "    )\n",
        "    return client.analyze_entities(document=document)\n",
        "\n",
        "def show_text_entities(response: language.AnalyzeEntitiesResponse):\n",
        "    import pandas as pd\n",
        "\n",
        "    columns = (\"name\", \"type\", \"salience\", \"mid\", \"wikipedia_url\")\n",
        "    data = (\n",
        "        (\n",
        "            entity.name,\n",
        "            entity.type_.name,\n",
        "            entity.salience,\n",
        "            entity.metadata.get(\"mid\", \"\"),\n",
        "            entity.metadata.get(\"wikipedia_url\", \"\"),\n",
        "        )\n",
        "        for entity in response.entities\n",
        "    )\n",
        "    df = pd.DataFrame(columns=columns, data=data)\n",
        "    print(df.to_markdown(index=False, tablefmt=\"presto\", floatfmt=\".0%\"))\n"
      ],
      "metadata": {
        "id": "hcHFUBmvrGCY"
      },
      "execution_count": null,
      "outputs": []
    },
    {
      "cell_type": "code",
      "source": [
        "# Input\n",
        "text = \"\"\"Guido van Rossum is best known as the creator of Python,\n",
        "which he named after the Monty Python comedy troupe.\n",
        "He was born in Haarlem, Netherlands.\n",
        "\"\"\"\n",
        "\n",
        "# Send a request to the API\n",
        "analyze_entities_response = analyze_text_entities(text)\n",
        "\n",
        "# Show the results\n",
        "show_text_entities(analyze_entities_response)"
      ],
      "metadata": {
        "colab": {
          "base_uri": "https://localhost:8080/"
        },
        "id": "n0CzA7Burr9W",
        "outputId": "7605a31f-70d5-4afc-f510-358773298749"
      },
      "execution_count": null,
      "outputs": [
        {
          "output_type": "stream",
          "name": "stdout",
          "text": [
            " name             | type         |   salience | mid       | wikipedia_url\n",
            "------------------+--------------+------------+-----------+-------------------------------------------------------------\n",
            " Guido van Rossum | PERSON       |        50% | /m/01h05c | https://en.wikipedia.org/wiki/Guido_van_Rossum\n",
            " Python           | ORGANIZATION |        38% | /m/05z1_  | https://en.wikipedia.org/wiki/Python_(programming_language)\n",
            " creator          | PERSON       |         5% |           |\n",
            " Monty Python     | PERSON       |         3% | /m/04sd0  | https://en.wikipedia.org/wiki/Monty_Python\n",
            " comedy troupe    | PERSON       |         2% |           |\n",
            " Haarlem          | LOCATION     |         1% | /m/0h095  | https://en.wikipedia.org/wiki/Haarlem\n",
            " Netherlands      | LOCATION     |         1% | /m/059j2  | https://en.wikipedia.org/wiki/Netherlands\n"
          ]
        }
      ]
    },
    {
      "cell_type": "code",
      "source": [
        "\n",
        "# Input text for entity analysis with @param\n",
        "text = \"I'm following a track called AI Business Architect at PXL Next, in collaboration with Hogeschool PXL and Syntra\" #@param {type:\"string\"}\n",
        "analyze_entities_response = analyze_text_entities(text)\n",
        "show_text_entities(analyze_entities_response)"
      ],
      "metadata": {
        "colab": {
          "base_uri": "https://localhost:8080/"
        },
        "id": "qyENLR7VrukX",
        "outputId": "3766fe2d-e3a0-4448-9a86-e1d30258f4c0"
      },
      "execution_count": null,
      "outputs": [
        {
          "output_type": "stream",
          "name": "stdout",
          "text": [
            " name                  | type        |   salience | mid          | wikipedia_url\n",
            "-----------------------+-------------+------------+--------------+----------------------------------------------\n",
            " track                 | WORK_OF_ART |        33% |              |\n",
            " AI Business Architect | OTHER       |        27% |              |\n",
            " PXL Next              | EVENT       |        13% |              |\n",
            " Hogeschool PXL        | OTHER       |        11% | /g/12214nll3 | https://nl.wikipedia.org/wiki/Hogeschool_PXL\n",
            " collaboration         | OTHER       |         8% |              |\n",
            " Syntra                | OTHER       |         7% |              |\n"
          ]
        }
      ]
    },
    {
      "cell_type": "code",
      "source": [],
      "metadata": {
        "id": "SLVXd60YsAKs"
      },
      "execution_count": null,
      "outputs": []
    }
  ]
}