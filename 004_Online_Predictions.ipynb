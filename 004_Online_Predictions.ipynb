{
  "nbformat": 4,
  "nbformat_minor": 0,
  "metadata": {
    "colab": {
      "provenance": [],
      "include_colab_link": true
    },
    "kernelspec": {
      "name": "python3",
      "display_name": "Python 3"
    },
    "language_info": {
      "name": "python"
    }
  },
  "cells": [
    {
      "cell_type": "markdown",
      "metadata": {
        "id": "view-in-github",
        "colab_type": "text"
      },
      "source": [
        "<a href=\"https://colab.research.google.com/github/xecon/github-upload/blob/master/004_Online_Predictions.ipynb\" target=\"_parent\"><img src=\"https://colab.research.google.com/assets/colab-badge.svg\" alt=\"Open In Colab\"/></a>"
      ]
    },
    {
      "cell_type": "code",
      "execution_count": null,
      "metadata": {
        "id": "BnbBPMp0njoA"
      },
      "outputs": [],
      "source": [
        "from google.cloud import aiplatform\n",
        "import google.auth\n",
        "from google.colab import auth\n",
        "import json\n",
        "auth.authenticate_user()"
      ]
    },
    {
      "cell_type": "code",
      "source": [
        "# creds, project = google.auth.default()\n",
        "aiplatform.init(project='ct-workshop-001')\n",
        "endpoint = aiplatform.Endpoint(endpoint_name='3816717121312784384', location=\"europe-west1\")"
      ],
      "metadata": {
        "id": "HwFh5UpKnpqc"
      },
      "execution_count": null,
      "outputs": []
    },
    {
      "cell_type": "markdown",
      "source": [],
      "metadata": {
        "id": "flfUKHafnvIz"
      }
    },
    {
      "cell_type": "code",
      "source": [
        "\n",
        "\n",
        "# instance1 = {\n",
        "#   \"customerID\": \"123\",\n",
        "#   \"gender\": \"F\",\n",
        "#   \"SeniorCitizen\": \"0\",\n",
        "#   \"Partner\": \"False\",\n",
        "#   \"PhoneService\": False,\n",
        "#   \"MultipleLines\": \"Yes\",\n",
        "#   \"InternetService\": \"Yes\",\n",
        "#   \"OnlineSecurity\": \"No\",\n",
        "#   \"OnlineBackup\": \"No\",\n",
        "#   \"DeviceProtection\": \"No\",\n",
        "#   \"TechSupport\": \"No\",\n",
        "#   \"StreamingTV\": \"No\",\n",
        "#   \"StreamingMovies\": \"No\",\n",
        "#   \"Contract\": \"Month-to-month\",\n",
        "#   \"PaperlessBilling\": True,\n",
        "#   \"PaymentMethod\": \"Electronic check\",\n",
        "#   \"MonthlyCharges\": 80.0,\n",
        "#   \"TotalCharges\": \"123\",\n",
        "#   \"uses_all_services\": False,\n",
        "#   \"Dependents\": \"No\"\n",
        "# }\n",
        "\n",
        "\n",
        "instance2 = {\n",
        "  \"customerID\": \"123\",\n",
        "  \"gender\": \"F\",\n",
        "  \"SeniorCitizen\": \"0\",\n",
        "  \"Partner\": \"False\",\n",
        "  \"PhoneService\": \"False\",\n",
        "  \"MultipleLines\": \"Yes\",\n",
        "  \"InternetService\": \"Yes\",\n",
        "  \"OnlineSecurity\": \"Yes\",\n",
        "  \"OnlineBackup\": \"Yes\",\n",
        "  \"DeviceProtection\": \"No\",\n",
        "  \"TechSupport\": \"No\",\n",
        "  \"StreamingTV\": \"No\",\n",
        "  \"StreamingMovies\": \"No\",\n",
        "  \"Contract\": \"Two year\",\n",
        "  \"PaperlessBilling\": \"False\",\n",
        "  \"PaymentMethod\": \"Credit card (automatic)\",\n",
        "  \"MonthlyCharges\": \"80.0\",\n",
        "  \"TotalCharges\": \"123\",\n",
        "  \"uses_all_services\": False,\n",
        "  \"Dependents\": \"No\",\n",
        "  \"tenure\": \"1\"\n",
        "}\n",
        "\n",
        "\n",
        "# Set up the endpoint and the request payload\n",
        "\n",
        "request = [instance2]\n",
        "\n",
        "print(\"The request we will send to the API:\")\n",
        "print(json.dumps(request, indent=2))\n",
        "\n",
        "with open('curl_input.json', 'w') as f:\n",
        "  data = {\n",
        "      'instances' : request\n",
        "  }\n",
        "  f.write(json.dumps(data, indent=2))"
      ],
      "metadata": {
        "colab": {
          "base_uri": "https://localhost:8080/"
        },
        "id": "kGkWvC0SnzYO",
        "outputId": "f7a26968-ed6c-41c7-9bec-54f73cd197a3"
      },
      "execution_count": null,
      "outputs": [
        {
          "output_type": "stream",
          "name": "stdout",
          "text": [
            "The request we will send to the API:\n",
            "[\n",
            "  {\n",
            "    \"customerID\": \"123\",\n",
            "    \"gender\": \"F\",\n",
            "    \"SeniorCitizen\": \"0\",\n",
            "    \"Partner\": \"False\",\n",
            "    \"PhoneService\": \"False\",\n",
            "    \"MultipleLines\": \"Yes\",\n",
            "    \"InternetService\": \"Yes\",\n",
            "    \"OnlineSecurity\": \"Yes\",\n",
            "    \"OnlineBackup\": \"Yes\",\n",
            "    \"DeviceProtection\": \"No\",\n",
            "    \"TechSupport\": \"No\",\n",
            "    \"StreamingTV\": \"No\",\n",
            "    \"StreamingMovies\": \"No\",\n",
            "    \"Contract\": \"Two year\",\n",
            "    \"PaperlessBilling\": \"False\",\n",
            "    \"PaymentMethod\": \"Credit card (automatic)\",\n",
            "    \"MonthlyCharges\": \"80.0\",\n",
            "    \"TotalCharges\": \"123\",\n",
            "    \"uses_all_services\": false,\n",
            "    \"Dependents\": \"No\",\n",
            "    \"tenure\": \"1\"\n",
            "  }\n",
            "]\n"
          ]
        }
      ]
    },
    {
      "cell_type": "code",
      "source": [
        "# @title Make the prediction request\n",
        "response = endpoint.predict(request)\n",
        "\n",
        "# Print the prediction result\n",
        "print(\"The result we get back from the API:\")\n",
        "print(response)"
      ],
      "metadata": {
        "colab": {
          "base_uri": "https://localhost:8080/"
        },
        "id": "Tj6O_ShmoDAQ",
        "outputId": "c7c2cd45-b5d0-49ef-ba2f-5f2690fd1a27"
      },
      "execution_count": null,
      "outputs": [
        {
          "output_type": "stream",
          "name": "stdout",
          "text": [
            "The result we get back from the API:\n",
            "Prediction(predictions=[{'classes': ['No', 'Yes'], 'scores': [0.829278290271759, 0.1707216948270798]}], deployed_model_id='2335094416559046656', metadata=None, model_version_id='1', model_resource_name='projects/481426527775/locations/europe-west1/models/239244934111035392', explanations=None)\n"
          ]
        }
      ]
    },
    {
      "cell_type": "code",
      "source": [
        "for prediction in response.predictions:\n",
        "  print('-'*80)\n",
        "  print(json.dumps(prediction, indent=2))"
      ],
      "metadata": {
        "colab": {
          "base_uri": "https://localhost:8080/"
        },
        "id": "rJWOHcLmoLE3",
        "outputId": "996b2d2f-44dc-429f-9399-db79fb937d20"
      },
      "execution_count": null,
      "outputs": [
        {
          "output_type": "stream",
          "name": "stdout",
          "text": [
            "--------------------------------------------------------------------------------\n",
            "{\n",
            "  \"classes\": [\n",
            "    \"No\",\n",
            "    \"Yes\"\n",
            "  ],\n",
            "  \"scores\": [\n",
            "    0.829278290271759,\n",
            "    0.1707216948270798\n",
            "  ]\n",
            "}\n"
          ]
        }
      ]
    },
    {
      "cell_type": "code",
      "source": [
        "# @title raw call"
      ],
      "metadata": {
        "id": "5Kd-RqcKoNSd"
      },
      "execution_count": null,
      "outputs": []
    },
    {
      "cell_type": "code",
      "source": [
        "%env ENDPOINT_ID=3816717121312784384\n",
        "%env PROJECT_ID=481426527775\n",
        "%env INPUT_DATA_FILE=curl_input.json\n",
        "! echo https://europe-west4-aiplatform.googleapis.com/v1/projects/${PROJECT_ID}/locations/europe-west1/endpoints/${ENDPOINT_ID}:predict\n",
        "! curl \\\n",
        "-X POST \\\n",
        "-H \"Authorization: Bearer $(gcloud auth application-default print-access-token)\" \\\n",
        "-H \"Content-Type: application/json\" \\\n",
        "https://europe-west4-aiplatform.googleapis.com/v1/projects/${PROJECT_ID}/locations/europe-west1/endpoints/${ENDPOINT_ID}:predict \\\n",
        "-d \"@${INPUT_DATA_FILE}\""
      ],
      "metadata": {
        "colab": {
          "base_uri": "https://localhost:8080/"
        },
        "id": "PsOLoNgSoYAk",
        "outputId": "c2c7d53e-179e-41d4-81a3-0a9434cebd4f"
      },
      "execution_count": null,
      "outputs": [
        {
          "output_type": "stream",
          "name": "stdout",
          "text": [
            "env: ENDPOINT_ID=3816717121312784384\n",
            "env: PROJECT_ID=481426527775\n",
            "env: INPUT_DATA_FILE=curl_input.json\n",
            "https://europe-west4-aiplatform.googleapis.com/v1/projects/481426527775/locations/europe-west1/endpoints/3816717121312784384:predict\n",
            "\u001b[1;31mERROR:\u001b[0m (gcloud.auth.application-default.print-access-token) There was a problem refreshing your current auth tokens: (\"Failed to retrieve http://metadata.google.internal/computeMetadata/v1/instance/service-accounts/default/?recursive=true from the Google Compute Engine metadata service. Status: 404 Response:\\nb''\", <google.auth.transport.requests._Response object at 0x7c2a73b38a00>)\n",
            "Please run:\n",
            "\n",
            "  $ gcloud auth application-default login\n",
            "\n",
            "to obtain new credentials.\n",
            "Warning: Couldn't read data from file \"curl_input.json\", this makes an empty \n",
            "Warning: POST.\n",
            "{\n",
            "  \"error\": {\n",
            "    \"code\": 401,\n",
            "    \"message\": \"Request is missing required authentication credential. Expected OAuth 2 access token, login cookie or other valid authentication credential. See https://developers.google.com/identity/sign-in/web/devconsole-project.\",\n",
            "    \"status\": \"UNAUTHENTICATED\",\n",
            "    \"details\": [\n",
            "      {\n",
            "        \"@type\": \"type.googleapis.com/google.rpc.ErrorInfo\",\n",
            "        \"reason\": \"CREDENTIALS_MISSING\",\n",
            "        \"domain\": \"googleapis.com\",\n",
            "        \"metadata\": {\n",
            "          \"method\": \"google.cloud.aiplatform.v1.PredictionService.Predict\",\n",
            "          \"service\": \"aiplatform.googleapis.com\"\n",
            "        }\n",
            "      }\n",
            "    ]\n",
            "  }\n",
            "}\n"
          ]
        }
      ]
    },
    {
      "cell_type": "code",
      "source": [],
      "metadata": {
        "id": "qfqhrCRbsQha"
      },
      "execution_count": null,
      "outputs": []
    }
  ]
}